{
 "cells": [
  {
   "cell_type": "code",
   "execution_count": null,
   "id": "f3f274e7",
   "metadata": {},
   "outputs": [],
   "source": [
    "__version__ = '1.0.0-rc.2'\n",
    "__author__ = 'Martino Pulici'"
   ]
  },
  {
   "cell_type": "code",
   "execution_count": null,
   "id": "bf2c3d50",
   "metadata": {},
   "outputs": [],
   "source": [
    "import csv"
   ]
  },
  {
   "cell_type": "code",
   "execution_count": null,
   "id": "b1cf5e90",
   "metadata": {},
   "outputs": [],
   "source": [
    "import pandas as pd\n",
    "import pulp"
   ]
  },
  {
   "cell_type": "code",
   "execution_count": null,
   "id": "5fb991c1",
   "metadata": {},
   "outputs": [],
   "source": [
    "from meal_plan_optimizer import *"
   ]
  },
  {
   "cell_type": "code",
   "execution_count": null,
   "id": "4f9314cf",
   "metadata": {},
   "outputs": [],
   "source": [
    "nutrient_limits = {'Energy': 2000,\n",
    "                   'Fat': 70,\n",
    "                   'Saturates': 20,\n",
    "                   'Carbohydrates': 260,\n",
    "                   'Sugars': 90,\n",
    "                   'Protein': 50\n",
    "                   }\n",
    "# nutrient daily limits"
   ]
  },
  {
   "cell_type": "code",
   "execution_count": null,
   "id": "7c6e3c9c",
   "metadata": {},
   "outputs": [],
   "source": [
    "df = pd.read_csv(\"data/food.csv\")\n",
    "# ingredient nutrients file\n",
    "\n",
    "with open(\"data/dish.csv\") as f:\n",
    "    # dishes file\n",
    "    reader = csv.reader(f)\n",
    "    dishes_list = list(reader)\n",
    "    # dishes strings list\n",
    "\n",
    "with open(\"data/unlimited.txt\") as f:\n",
    "    # unlimited dishes file\n",
    "    reader = csv.reader(f)\n",
    "    unlimited_dishes = list(reader)[0]\n",
    "    # unlimited dishes list"
   ]
  },
  {
   "cell_type": "code",
   "execution_count": null,
   "id": "ea790ccb",
   "metadata": {},
   "outputs": [],
   "source": [
    "labels = list(df['Food'])\n",
    "# list of food names\n",
    "costs = dict(zip(labels, df['Cost']))\n",
    "# dictionary of food costs"
   ]
  },
  {
   "cell_type": "code",
   "execution_count": null,
   "id": "f1fb916a",
   "metadata": {},
   "outputs": [],
   "source": [
    "nutrients = {}\n",
    "# dictionary of food nutrients\n",
    "\n",
    "for i in range(len(labels)):\n",
    "    # cycle on the foods\n",
    "    nutrients[labels[i]] = {}\n",
    "    # dictionary of nutrients for specific food\n",
    "\n",
    "    for nut in nutrient_limits.keys():\n",
    "        # cycle on nutrient limits\n",
    "        nutrients[labels[i]][nut] = df[nut][i] * 10\n",
    "        # nutrient quantities multiplied times 10 to convert to kg"
   ]
  },
  {
   "cell_type": "code",
   "execution_count": null,
   "id": "449c4e5a",
   "metadata": {},
   "outputs": [],
   "source": [
    "dishes_labels = []\n",
    "# dish names list\n",
    "dishes = []\n",
    "# dishes list\n",
    "\n",
    "for i in range(len(dishes_list)):\n",
    "    # cycle on dishes strings list\n",
    "    d = dishes_list[i]\n",
    "    # current dish\n",
    "    dishes.append(dish(d[0], nutrient_limits))\n",
    "    # dish added to dishes list\n",
    "    dishes_labels.append(d[0])\n",
    "    # dish name appended to list\n",
    "\n",
    "    for j in range(1, len(d), 2):\n",
    "        # cycle on dish ingredients\n",
    "        ingredient = d[j]\n",
    "        # current ingredient\n",
    "        quantity = float(d[j + 1]) / 1000\n",
    "        # current quantity devided by 1000 to convert to kg\n",
    "        dishes[i].cost += costs[ingredient] * quantity\n",
    "        # current ingredient cost added to dish cost\n",
    "\n",
    "        for nut in dishes[i].nutrients.keys():\n",
    "            # cycle on ingredient nutrients\n",
    "            dishes[i].nutrients[nut] += nutrients[ingredient][nut] * quantity\n",
    "            # ingredient nutrient added to dish nutrient"
   ]
  },
  {
   "cell_type": "code",
   "execution_count": null,
   "id": "f1141446",
   "metadata": {},
   "outputs": [],
   "source": [
    "food_day_1 = pulp.LpVariable.dicts(\"Food_Day_1\", dishes_labels, 0)\n",
    "food_day_2 = pulp.LpVariable.dicts(\"Food_Day_2\", dishes_labels, 0)\n",
    "food_day_3 = pulp.LpVariable.dicts(\"Food_Day_3\", dishes_labels, 0)\n",
    "food_day_4 = pulp.LpVariable.dicts(\"Food_Day_4\", dishes_labels, 0)\n",
    "food_day_5 = pulp.LpVariable.dicts(\"Food_Day_5\", dishes_labels, 0)\n",
    "\n",
    "foods = [food_day_1, food_day_2, food_day_3, food_day_4, food_day_5]\n",
    "# LpVariable list"
   ]
  },
  {
   "cell_type": "code",
   "execution_count": null,
   "id": "6ebfac81",
   "metadata": {},
   "outputs": [],
   "source": [
    "prob_day_1 = pulp.LpProblem(\"Day_1\", pulp.LpMinimize)\n",
    "prob_day_2 = pulp.LpProblem(\"Day_2\", pulp.LpMinimize)\n",
    "prob_day_3 = pulp.LpProblem(\"Day_3\", pulp.LpMinimize)\n",
    "prob_day_4 = pulp.LpProblem(\"Day_4\", pulp.LpMinimize)\n",
    "prob_day_5 = pulp.LpProblem(\"Day_5\", pulp.LpMinimize)\n",
    "\n",
    "probs = [prob_day_1, prob_day_2, prob_day_3, prob_day_4, prob_day_5]\n",
    "# LpProblems list"
   ]
  },
  {
   "cell_type": "code",
   "execution_count": null,
   "id": "3a98c87f",
   "metadata": {},
   "outputs": [],
   "source": [
    "for i in range(len(probs)):\n",
    "    # cycle on problems\n",
    "    probs[i] += pulp.lpSum([dish.cost * foods[i][dish.name]\n",
    "                           for dish in dishes])\n",
    "    # objective added to problem\n",
    "\n",
    "    for nut in nutrient_limits.keys():\n",
    "        # cycle on nutrients\n",
    "        probs[i] += pulp.lpSum([dish.nutrients[nut] * foods[i][dish.name]\n",
    "                               for dish in dishes]) >= nutrient_limits[nut] * 0.67\n",
    "        # minimum nutrient quantity constraint added to problem\n",
    "        probs[i] += pulp.lpSum([dish.nutrients[nut] * foods[i][dish.name]\n",
    "                               for dish in dishes]) <= nutrient_limits[nut] * 1.5\n",
    "        # maximum nutrient quantity constraint added to problem\n",
    "\n",
    "    for j in range(len(probs[i].variables())):\n",
    "        # cycle on dishes\n",
    "        probs[i] += probs[i].variables()[j] <= 3\n",
    "        # maximum number of servings for dish added"
   ]
  },
  {
   "cell_type": "code",
   "execution_count": null,
   "id": "cef3c4d0",
   "metadata": {
    "scrolled": false
   },
   "outputs": [],
   "source": [
    "int_probs = []\n",
    "# integer problems list\n",
    "\n",
    "for i in range(0, len(probs)):\n",
    "    # cycle on problems\n",
    "\n",
    "    for j in range(0, i):\n",
    "        # cycle on previous problems\n",
    "\n",
    "        for k in range(len(int_probs[j].variables())):\n",
    "            # cycle on previous problem dishes\n",
    "\n",
    "            if int_probs[j].variables()[k].varValue and not unlimited_dish(\n",
    "                    str(int_probs[j].variables()[k]), unlimited_dishes):\n",
    "                # entered if dish has already been chosen for a previous\n",
    "                # problem and it is not an unlimited dish\n",
    "                probs[i] += probs[i].variables()[k] == 0\n",
    "                # dish quantity set to 0\n",
    "\n",
    "            if (j == i - 1 or j == i - 2) and int_probs[j].variables()[\n",
    "                    k].varValue and unlimited_dish(str(int_probs[j].variables()[k]), unlimited_dishes):\n",
    "                # entered if dish is already chosen for one of the last two\n",
    "                # problems and it is an unlimited dish\n",
    "                probs[i] += probs[i].variables()[k] == 0\n",
    "                # dish quantity set to 0\n",
    "\n",
    "    int_probs.append(branch_and_bound(probs[i]))\n",
    "    # integer problem added to list\n",
    "    int_probs[-1].solve()\n",
    "    # last problem solved"
   ]
  },
  {
   "cell_type": "code",
   "execution_count": null,
   "id": "b38b1abc",
   "metadata": {},
   "outputs": [],
   "source": [
    "print(\"Total cost = \" +\n",
    "      \"{0:.2f}\".format(pulp.value(sum([n.objective for n in int_probs]))) +\n",
    "      \" €\")\n",
    "\n",
    "for day in [\"_Day_1_\", \"_Day_2_\", \"_Day_3_\", \"_Day_4_\", \"_Day_5_\"]:\n",
    "    print()\n",
    "    print(day[1:6].upper())\n",
    "\n",
    "    for prob in int_probs:\n",
    "        for v in prob.variables():\n",
    "            if v.varValue and day in v.name:\n",
    "                print(v.name[11:] + \" = {0:.0f}\".format(v.varValue))"
   ]
  }
 ],
 "metadata": {
  "kernelspec": {
   "display_name": "Python 3",
   "language": "python",
   "name": "python3"
  },
  "language_info": {
   "codemirror_mode": {
    "name": "ipython",
    "version": 3
   },
   "file_extension": ".py",
   "mimetype": "text/x-python",
   "name": "python",
   "nbconvert_exporter": "python",
   "pygments_lexer": "ipython3",
   "version": "3.8.5"
  }
 },
 "nbformat": 4,
 "nbformat_minor": 5
}
