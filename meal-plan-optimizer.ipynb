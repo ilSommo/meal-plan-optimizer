{
 "cells": [
  {
   "cell_type": "code",
   "execution_count": null,
   "id": "f3f274e7",
   "metadata": {},
   "outputs": [],
   "source": [
    "__version__ = '1.0.0-alpha.1'\n",
    "__author__ = 'Martino Pulici'"
   ]
  },
  {
   "cell_type": "code",
   "execution_count": null,
   "id": "bf2c3d50",
   "metadata": {},
   "outputs": [],
   "source": [
    "import csv"
   ]
  },
  {
   "cell_type": "code",
   "execution_count": null,
   "id": "b1cf5e90",
   "metadata": {},
   "outputs": [],
   "source": [
    "import pandas as pd\n",
    "import pulp"
   ]
  },
  {
   "cell_type": "code",
   "execution_count": null,
   "id": "5fb991c1",
   "metadata": {},
   "outputs": [],
   "source": [
    "from branch_and_bound import branch_and_bound"
   ]
  },
  {
   "cell_type": "code",
   "execution_count": null,
   "id": "4c41ca59",
   "metadata": {},
   "outputs": [],
   "source": [
    "prob_day_1 = pulp.LpProblem(\"Day_1\", pulp.LpMinimize)\n",
    "prob_day_2 = pulp.LpProblem(\"Day_2\", pulp.LpMinimize)\n",
    "prob_day_3 = pulp.LpProblem(\"Day_3\", pulp.LpMinimize)\n",
    "prob_day_4 = pulp.LpProblem(\"Day_4\", pulp.LpMinimize)\n",
    "prob_day_5 = pulp.LpProblem(\"Day_5\", pulp.LpMinimize)\n",
    "probs = [prob_day_1, prob_day_2, prob_day_3, prob_day_4, prob_day_5]"
   ]
  },
  {
   "cell_type": "code",
   "execution_count": null,
   "id": "34591153",
   "metadata": {},
   "outputs": [],
   "source": [
    "df = pd.read_csv(\"food.csv\")\n",
    "with open(\"dish.csv\") as f:\n",
    "    reader = csv.reader(f)\n",
    "    dish_list = list(reader)\n",
    "with open(\"unlimited.txt\") as f:\n",
    "    reader = csv.reader(f)\n",
    "    unlimited_dishes = list(reader)[0]"
   ]
  },
  {
   "cell_type": "code",
   "execution_count": null,
   "id": "a7cba54b",
   "metadata": {},
   "outputs": [],
   "source": [
    "def unlimited_dish(string):\n",
    "    for food in unlimited_dishes:\n",
    "        if food in string:\n",
    "            return True\n",
    "    return False"
   ]
  },
  {
   "cell_type": "code",
   "execution_count": null,
   "id": "4a86fd3d",
   "metadata": {},
   "outputs": [],
   "source": [
    "nutrient_limits = {'Energy': 2000,\n",
    "                   'Fat': 70,\n",
    "                   'Saturates': 20,\n",
    "                   'Carbohydrates': 260,\n",
    "                   'Sugars': 90,\n",
    "                   'Protein': 50\n",
    "                   }"
   ]
  },
  {
   "cell_type": "code",
   "execution_count": null,
   "id": "a6159b1e",
   "metadata": {},
   "outputs": [],
   "source": [
    "class dish:\n",
    "    def __init__(self, name):\n",
    "        self.name = name\n",
    "        self.cost = 0\n",
    "        self.nutrients = {nut: 0 for nut in nutrient_limits.keys()}"
   ]
  },
  {
   "cell_type": "code",
   "execution_count": null,
   "id": "ea790ccb",
   "metadata": {},
   "outputs": [],
   "source": [
    "labels = list(df['Food'])\n",
    "costs = dict(zip(labels, df['Cost']))"
   ]
  },
  {
   "cell_type": "code",
   "execution_count": null,
   "id": "f1fb916a",
   "metadata": {},
   "outputs": [],
   "source": [
    "nutrients = {}\n",
    "for i in range(len(labels)):\n",
    "    nutrients[labels[i]] = {}\n",
    "    for nut in nutrient_limits.keys():\n",
    "        nutrients[labels[i]][nut] = df[nut][i] * 10"
   ]
  },
  {
   "cell_type": "code",
   "execution_count": null,
   "id": "449c4e5a",
   "metadata": {},
   "outputs": [],
   "source": [
    "dish_labels = []\n",
    "dishes = []\n",
    "for i in range(len(dish_list)):\n",
    "    d = dish_list[i]\n",
    "    dishes.append(dish(d[0]))\n",
    "    dish_labels.append(d[0])\n",
    "    for j in range(1, len(d), 2):\n",
    "        ingredient = d[j]\n",
    "        quantity = float(d[j + 1]) / 1000\n",
    "        dishes[i].cost += costs[ingredient] * quantity\n",
    "        for nut in dishes[i].nutrients.keys():\n",
    "            dishes[i].nutrients[nut] += nutrients[ingredient][nut] * quantity"
   ]
  },
  {
   "cell_type": "code",
   "execution_count": null,
   "id": "f1141446",
   "metadata": {},
   "outputs": [],
   "source": [
    "food_day_1 = pulp.LpVariable.dicts(\"Food_Day_1\", dish_labels, 0)\n",
    "food_day_2 = pulp.LpVariable.dicts(\"Food_Day_2\", dish_labels, 0)\n",
    "food_day_3 = pulp.LpVariable.dicts(\"Food_Day_3\", dish_labels, 0)\n",
    "food_day_4 = pulp.LpVariable.dicts(\"Food_Day_4\", dish_labels, 0)\n",
    "food_day_5 = pulp.LpVariable.dicts(\"Food_Day_5\", dish_labels, 0)\n",
    "foods = [food_day_1, food_day_2, food_day_3, food_day_4, food_day_5]"
   ]
  },
  {
   "cell_type": "code",
   "execution_count": null,
   "id": "3a98c87f",
   "metadata": {},
   "outputs": [],
   "source": [
    "for i in range(len(probs)):\n",
    "    probs[i] += pulp.lpSum([dish.cost * foods[i][dish.name] for dish in dishes])\n",
    "    for nut in nutrient_limits.keys():\n",
    "        probs[i] += pulp.lpSum([dish.nutrients[nut] * foods[i][dish.name] for dish in dishes]) >= nutrient_limits[nut] * 0.67\n",
    "        probs[i] += pulp.lpSum([dish.nutrients[nut] * foods[i][dish.name] for dish in dishes]) <= nutrient_limits[nut] * 1.5\n",
    "    for j in range(len(probs[i].variables())):\n",
    "        probs[i] += probs[i].variables()[j] <= 3"
   ]
  },
  {
   "cell_type": "code",
   "execution_count": null,
   "id": "cef3c4d0",
   "metadata": {
    "scrolled": false
   },
   "outputs": [],
   "source": [
    "new = []\n",
    "\n",
    "for i in range(0, len(probs)):\n",
    "    for j in range(0, i):\n",
    "        for k in range(len(new[j].variables())):\n",
    "            if new[j].variables()[k].varValue and not unlimited_dish(str(new[j].variables()[k])):\n",
    "                probs[i] += probs[i].variables()[k] == 0\n",
    "            if (j == i - 1 or j == i - 2) and new[j].variables()[k].varValue and unlimited_dish(str(new[j].variables()[k])):\n",
    "                probs[i] += probs[i].variables()[k] == 0\n",
    "    new.append(branch_and_bound(probs[i]))\n",
    "    new[-1].solve()"
   ]
  },
  {
   "cell_type": "code",
   "execution_count": null,
   "id": "8da781e5",
   "metadata": {},
   "outputs": [],
   "source": [
    "print(\"Cost = \" + str(pulp.value(sum([n.objective for n in new]))) + \" €\")"
   ]
  },
  {
   "cell_type": "code",
   "execution_count": null,
   "id": "b38b1abc",
   "metadata": {},
   "outputs": [],
   "source": [
    "for day in [\"_Day_1_\", \"_Day_2_\", \"_Day_3_\", \"_Day_4_\", \"_Day_5_\"]:\n",
    "    print()\n",
    "    print(day[1:6].upper())\n",
    "    for n in new:\n",
    "        for v in n.variables():\n",
    "            if v.varValue and day in v.name:\n",
    "                print(v.name[11:] + \" = {0:.0f}\".format(v.varValue))"
   ]
  }
 ],
 "metadata": {
  "kernelspec": {
   "display_name": "Python 3",
   "language": "python",
   "name": "python3"
  },
  "language_info": {
   "codemirror_mode": {
    "name": "ipython",
    "version": 3
   },
   "file_extension": ".py",
   "mimetype": "text/x-python",
   "name": "python",
   "nbconvert_exporter": "python",
   "pygments_lexer": "ipython3",
   "version": "3.9.0"
  }
 },
 "nbformat": 4,
 "nbformat_minor": 5
}
