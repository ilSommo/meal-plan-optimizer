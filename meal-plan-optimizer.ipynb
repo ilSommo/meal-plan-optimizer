{
 "cells": [
  {
   "cell_type": "code",
   "execution_count": null,
   "metadata": {},
   "outputs": [],
   "source": [
    "__version__ = '1.0.0-alpha.1'\n",
    "__author__ = 'Martino Pulici'"
   ]
  },
  {
   "cell_type": "code",
   "execution_count": null,
   "metadata": {},
   "outputs": [],
   "source": [
    "import pandas as pd\n",
    "import pulp"
   ]
  },
  {
   "cell_type": "code",
   "execution_count": null,
   "metadata": {},
   "outputs": [],
   "source": [
    "from branch_and_bound import branch_and_bound"
   ]
  },
  {
   "cell_type": "code",
   "execution_count": null,
   "metadata": {},
   "outputs": [],
   "source": [
    "prob_mon = pulp.LpProblem(\"Monday\", pulp.LpMinimize)\n",
    "prob_tue = pulp.LpProblem(\"Tuesday\", pulp.LpMinimize)\n",
    "prob_wed = pulp.LpProblem(\"Wednesday\", pulp.LpMinimize)\n",
    "probs = [prob_mon,prob_tue,prob_wed]"
   ]
  },
  {
   "cell_type": "code",
   "execution_count": null,
   "metadata": {},
   "outputs": [],
   "source": [
    "import csv\n",
    "df = pd.read_csv(\"food.csv\")\n",
    "with open('dish.csv') as f:\n",
    "    reader = csv.reader(f)\n",
    "    dish_list = list(reader)"
   ]
  },
  {
   "cell_type": "code",
   "execution_count": null,
   "metadata": {},
   "outputs": [],
   "source": [
    "nutrient_limits = {'Energy': 2000,\n",
    "          'Fat': 70,\n",
    "          'Saturates': 20,\n",
    "          'Carbohydrates': 260,\n",
    "          'Sugars': 90,\n",
    "          'Protein': 50\n",
    "         }"
   ]
  },
  {
   "cell_type": "code",
   "execution_count": null,
   "metadata": {},
   "outputs": [],
   "source": [
    "class dish:\n",
    "    def __init__(self, name):\n",
    "        self.name = name\n",
    "        self.cost = 0\n",
    "        self.nutrients = {nut:0 for nut in nutrient_limits.keys()}"
   ]
  },
  {
   "cell_type": "code",
   "execution_count": null,
   "metadata": {},
   "outputs": [],
   "source": [
    "labels = list(df['Food'])\n",
    "costs = dict(zip(labels,df['Cost']))"
   ]
  },
  {
   "cell_type": "code",
   "execution_count": null,
   "metadata": {},
   "outputs": [],
   "source": [
    "nutrients = {}\n",
    "for i in range(len(labels)):\n",
    "    nutrients[labels[i]] = {}\n",
    "    for nut in nutrient_limits.keys():\n",
    "        nutrients[labels[i]][nut] = df[nut][i]*10"
   ]
  },
  {
   "cell_type": "code",
   "execution_count": null,
   "metadata": {},
   "outputs": [],
   "source": [
    "dish_labels = []\n",
    "dishes = []\n",
    "for i in range(len(dish_list)):\n",
    "    d = dish_list[i]\n",
    "    dishes.append(dish(d[0]))\n",
    "    dish_labels.append(d[0])\n",
    "    for j in range(1,len(d),2):\n",
    "        ingredient = d[j]\n",
    "        quantity = float(d[j+1])/1000\n",
    "        dishes[i].cost += costs[ingredient]*quantity\n",
    "        for nut in dishes[i].nutrients.keys():\n",
    "            dishes[i].nutrients[nut] += nutrients[ingredient][nut]*quantity"
   ]
  },
  {
   "cell_type": "code",
   "execution_count": null,
   "metadata": {},
   "outputs": [],
   "source": [
    "food_mon = pulp.LpVariable.dicts(\"Food_Mon\",dish_labels,0)\n",
    "food_tue = pulp.LpVariable.dicts(\"Food_Tue\",dish_labels,0)\n",
    "food_wed = pulp.LpVariable.dicts(\"Food_Wed\",dish_labels,0)\n",
    "foods = [food_mon,food_tue,food_wed]"
   ]
  },
  {
   "cell_type": "code",
   "execution_count": null,
   "metadata": {},
   "outputs": [],
   "source": [
    "for nut in nutrient_limits.keys():\n",
    "    for i in range(len(probs)):\n",
    "        probs[i] += pulp.lpSum([dish.cost*foods[i][dish.name] for dish in dishes])\n",
    "        probs[i] += pulp.lpSum([dish.nutrients[nut] * foods[i][dish.name] for dish in dishes]) >= nutrient_limits[nut]*0.8\n",
    "        probs[i] += pulp.lpSum([dish.nutrients[nut] * foods[i][dish.name] for dish in dishes]) <= nutrient_limits[nut]*1.2"
   ]
  },
  {
   "cell_type": "code",
   "execution_count": null,
   "metadata": {
    "scrolled": false
   },
   "outputs": [],
   "source": [
    "new = []\n",
    "\n",
    "new.append(branch_and_bound(prob_mon))\n",
    "new[0].solve()\n",
    "\n",
    "for i in range(1,len(probs)):\n",
    "    for j in range(0,i):\n",
    "        for k in range(len(new[j].variables())):\n",
    "            if new[j].variables()[k].varValue:\n",
    "                probs[i] += probs[i].variables()[k] == 0\n",
    "    new.append(branch_and_bound(probs[i]))\n",
    "    new[-1].solve()"
   ]
  },
  {
   "cell_type": "code",
   "execution_count": null,
   "metadata": {},
   "outputs": [],
   "source": [
    "print('Cost =', pulp.value(sum([n.objective for n in new])), '€')"
   ]
  },
  {
   "cell_type": "code",
   "execution_count": null,
   "metadata": {},
   "outputs": [],
   "source": [
    "for day in [\"_Mon_\",\"_Tue_\",\"_Wed_\"]:\n",
    "    print()\n",
    "    print(day[1:4].upper())\n",
    "    for n in new:\n",
    "        for v in n.variables():\n",
    "            if v.varValue and day in v.name:\n",
    "                print(v.name[9:], '=', '{0:.0f}'.format(v.varValue))"
   ]
  }
 ],
 "metadata": {
  "kernelspec": {
   "display_name": "Python 3",
   "language": "python",
   "name": "python3"
  },
  "language_info": {
   "codemirror_mode": {
    "name": "ipython",
    "version": 3
   },
   "file_extension": ".py",
   "mimetype": "text/x-python",
   "name": "python",
   "nbconvert_exporter": "python",
   "pygments_lexer": "ipython3",
   "version": "3.9.0"
  }
 },
 "nbformat": 4,
 "nbformat_minor": 5
}