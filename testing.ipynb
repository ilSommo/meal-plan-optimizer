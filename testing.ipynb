{
 "cells": [
  {
   "cell_type": "code",
   "execution_count": null,
   "id": "e707e3bf",
   "metadata": {},
   "outputs": [],
   "source": [
    "import pulp\n",
    "import pandas as pd"
   ]
  },
  {
   "cell_type": "code",
   "execution_count": null,
   "id": "e176644d",
   "metadata": {},
   "outputs": [],
   "source": [
    "prob = pulp.LpProblem(\"Test_plan\", pulp.LpMinimize)"
   ]
  },
  {
   "cell_type": "code",
   "execution_count": null,
   "id": "7cb82b1a",
   "metadata": {},
   "outputs": [],
   "source": [
    "df = pd.read_csv(\"data.csv\")"
   ]
  },
  {
   "cell_type": "code",
   "execution_count": null,
   "id": "b94c4873",
   "metadata": {},
   "outputs": [],
   "source": [
    "labels = list(df['Food'])"
   ]
  },
  {
   "cell_type": "code",
   "execution_count": null,
   "id": "852caeb3",
   "metadata": {},
   "outputs": [],
   "source": [
    "costs = dict(zip(labels,df['Cost']))"
   ]
  },
  {
   "cell_type": "code",
   "execution_count": null,
   "id": "c726ae11",
   "metadata": {},
   "outputs": [],
   "source": [
    "daily = dict(zip(labels,df['Daily']/1000))\n",
    "weekly = dict(zip(labels,df['Weekly']/1000))"
   ]
  },
  {
   "cell_type": "code",
   "execution_count": null,
   "id": "5ba7a2c1",
   "metadata": {},
   "outputs": [],
   "source": [
    "foods_mon = pulp.LpVariable.dicts(\"Food_Mon\",labels,0)\n",
    "foods_tue = pulp.LpVariable.dicts(\"Food_Tue\",labels,0)\n",
    "foods_wed = pulp.LpVariable.dicts(\"Food_Wed\",labels,0)\n",
    "foods_thu = pulp.LpVariable.dicts(\"Food_Thu\",labels,0)\n",
    "foods_fri = pulp.LpVariable.dicts(\"Food_Fri\",labels,0)\n",
    "foods_sat = pulp.LpVariable.dicts(\"Food_Sat\",labels,0)\n",
    "foods_sun = pulp.LpVariable.dicts(\"Food_Sun\",labels,0)\n",
    "food_list = [foods_mon,foods_tue,foods_wed,foods_thu,foods_fri,foods_sat,foods_sun]"
   ]
  },
  {
   "cell_type": "code",
   "execution_count": null,
   "id": "dd0eb922",
   "metadata": {},
   "outputs": [],
   "source": [
    "prob += pulp.lpSum([costs[food]*foods_mon[food]+costs[food]*foods_tue[food]+costs[food]*foods_wed[food] for food in labels])"
   ]
  },
  {
   "cell_type": "code",
   "execution_count": null,
   "id": "913de770",
   "metadata": {},
   "outputs": [],
   "source": [
    "for food in labels:\n",
    "    for foods in food_list:\n",
    "        prob += foods[food] <= daily[food]\n",
    "    prob += sum([foods[food] for foods in food_list]) <= weekly[food]"
   ]
  },
  {
   "cell_type": "code",
   "execution_count": null,
   "id": "c8b8bb06",
   "metadata": {},
   "outputs": [],
   "source": [
    "energy = dict(zip(labels,df['Energy']*10))\n",
    "fat = dict(zip(labels,df['Fat']*10))\n",
    "saturates = dict(zip(labels,df['Saturates']*10))\n",
    "carbohydrates = dict(zip(labels,df['Carbohydrates']*10))\n",
    "sugars = dict(zip(labels,df['Sugars']*10))\n",
    "protein = dict(zip(labels,df['Protein']*10))"
   ]
  },
  {
   "cell_type": "code",
   "execution_count": null,
   "id": "0e59184a",
   "metadata": {},
   "outputs": [],
   "source": [
    "for foods in food_list:\n",
    "    prob += pulp.lpSum([energy[food] * foods[food] for food in labels]) >= 2000*0.9\n",
    "    prob += pulp.lpSum([energy[food] * foods[food] for food in labels]) <= 2000*1.1\n",
    "    prob += pulp.lpSum([fat[food] * foods[food] for food in labels]) >= 70*0.9\n",
    "    prob += pulp.lpSum([fat[food] * foods[food] for food in labels]) <= 70*1.1\n",
    "    prob += pulp.lpSum([saturates[food] * foods[food] for food in labels]) >= 20*0.9\n",
    "    prob += pulp.lpSum([saturates[food] * foods[food] for food in labels]) <= 20*1.1\n",
    "    prob += pulp.lpSum([carbohydrates[food] * foods[food] for food in labels]) >= 260*0.9\n",
    "    prob += pulp.lpSum([carbohydrates[food] * foods[food] for food in labels]) <= 260*1.1\n",
    "    prob += pulp.lpSum([sugars[food] * foods[food] for food in labels]) >= 90*0.9\n",
    "    prob += pulp.lpSum([sugars[food] * foods[food] for food in labels]) <= 90*1.1\n",
    "    prob += pulp.lpSum([protein[food] * foods[food] for food in labels]) >= 50*0.9\n",
    "    prob += pulp.lpSum([protein[food] * foods[food] for food in labels]) <= 50*1.1"
   ]
  },
  {
   "cell_type": "code",
   "execution_count": null,
   "id": "822b3519",
   "metadata": {},
   "outputs": [],
   "source": [
    "prob.solve();"
   ]
  },
  {
   "cell_type": "code",
   "execution_count": null,
   "id": "42bba1be",
   "metadata": {},
   "outputs": [],
   "source": [
    "print(pulp.LpStatus[prob.status])"
   ]
  },
  {
   "cell_type": "code",
   "execution_count": null,
   "id": "82b1036a",
   "metadata": {},
   "outputs": [],
   "source": [
    "print('Cost =', pulp.value(prob.objective), '€')"
   ]
  },
  {
   "cell_type": "code",
   "execution_count": null,
   "id": "17cdac5c",
   "metadata": {},
   "outputs": [],
   "source": [
    "for v in prob.variables():\n",
    "    if v.varValue and \"_Mon_\" in v.name:\n",
    "        print(v.name, '=', '{0:.0f}'.format(v.varValue*1000), 'g')\n",
    "print()\n",
    "for v in prob.variables():\n",
    "    if v.varValue and \"_Tue_\" in v.name:\n",
    "        print(v.name, '=', '{0:.0f}'.format(v.varValue*1000), 'g')\n",
    "print()\n",
    "for v in prob.variables():\n",
    "    if v.varValue and \"_Wed_\" in v.name:\n",
    "        print(v.name, '=', '{0:.0f}'.format(v.varValue*1000), 'g')\n",
    "print()\n",
    "for v in prob.variables():\n",
    "    if v.varValue and \"_Thu_\" in v.name:\n",
    "        print(v.name, '=', '{0:.0f}'.format(v.varValue*1000), 'g')\n",
    "print()\n",
    "for v in prob.variables():\n",
    "    if v.varValue and \"_Fri_\" in v.name:\n",
    "        print(v.name, '=', '{0:.0f}'.format(v.varValue*1000), 'g')\n",
    "print()\n",
    "for v in prob.variables():\n",
    "    if v.varValue and \"_Sat_\" in v.name:\n",
    "        print(v.name, '=', '{0:.0f}'.format(v.varValue*1000), 'g')\n",
    "print()\n",
    "for v in prob.variables():\n",
    "    if v.varValue and \"_Sun_\" in v.name:\n",
    "        print(v.name, '=', '{0:.0f}'.format(v.varValue*1000), 'g')"
   ]
  }
 ],
 "metadata": {
  "kernelspec": {
   "display_name": "Python 3",
   "language": "python",
   "name": "python3"
  },
  "language_info": {
   "codemirror_mode": {
    "name": "ipython",
    "version": 3
   },
   "file_extension": ".py",
   "mimetype": "text/x-python",
   "name": "python",
   "nbconvert_exporter": "python",
   "pygments_lexer": "ipython3",
   "version": "3.9.0"
  }
 },
 "nbformat": 4,
 "nbformat_minor": 5
}
