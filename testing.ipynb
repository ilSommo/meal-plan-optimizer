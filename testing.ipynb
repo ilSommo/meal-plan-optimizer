{
 "cells": [
  {
   "cell_type": "code",
   "execution_count": null,
   "id": "0a0b8ae6",
   "metadata": {},
   "outputs": [],
   "source": [
    "import pulp\n",
    "import pandas as pd\n",
    "from branch_and_bound import branch_and_bound"
   ]
  },
  {
   "cell_type": "code",
   "execution_count": null,
   "id": "0b1c55b7",
   "metadata": {},
   "outputs": [],
   "source": [
    "prob = pulp.LpProblem(\"Test_plan\", pulp.LpMinimize)"
   ]
  },
  {
   "cell_type": "code",
   "execution_count": null,
   "id": "6628a9e7",
   "metadata": {},
   "outputs": [],
   "source": [
    "import csv\n",
    "df = pd.read_csv(\"food.csv\")\n",
    "with open('dish.csv') as f:\n",
    "    reader = csv.reader(f)\n",
    "    dish_list = list(reader)"
   ]
  },
  {
   "cell_type": "code",
   "execution_count": null,
   "id": "fcefd5cd",
   "metadata": {},
   "outputs": [],
   "source": [
    "nutrient_limits = {'Energy': 2000,\n",
    "          'Fat': 70,\n",
    "          'Saturates': 20,\n",
    "          'Carbohydrates': 260,\n",
    "          'Sugars': 90,\n",
    "          'Protein': 50\n",
    "         }"
   ]
  },
  {
   "cell_type": "raw",
   "id": "4a90f23e",
   "metadata": {},
   "source": [
    "# proper limits\n",
    "category_limits = {'Cereal': (0.295, 10),\n",
    "          'Tuber': (10, 0.400),\n",
    "          'Fruit': (0.450, 10),\n",
    "          'Vegetable': (0.500, 10),\n",
    "          'Meat': (10, 0.300),\n",
    "          'Fish': (10, 0.350),\n",
    "          'Egg': (10, 0.150),\n",
    "          'Legume': (10, 0.450),\n",
    "          'Dairy': (0.375, 10),\n",
    "          'Fat': (0.030, 10),\n",
    "         }"
   ]
  },
  {
   "cell_type": "raw",
   "id": "500d2491",
   "metadata": {},
   "source": [
    "# temporary limits\n",
    "category_limits = {'Cereal': (0.295, 10),\n",
    "          'Tuber': (10, 0.400),\n",
    "          'Fruit': (10, 10),\n",
    "          'Vegetable': (10, 10),\n",
    "          'Meat': (10, 0.300),\n",
    "          'Fish': (10, 0.350),\n",
    "          'Egg': (10, 0.150),\n",
    "          'Legume': (10, 0.450),\n",
    "          'Dairy': (0.375, 10),\n",
    "          'Fat': (0.030, 10),\n",
    "         }"
   ]
  },
  {
   "cell_type": "code",
   "execution_count": null,
   "id": "c4246e14",
   "metadata": {},
   "outputs": [],
   "source": [
    "# temporary limits\n",
    "category_limits = {'Cereal': (10, 10),\n",
    "          'Tuber': (10, 10),\n",
    "          'Fruit': (10, 10),\n",
    "          'Vegetable': (10, 10),\n",
    "          'Meat': (10, 10),\n",
    "          'Fish': (10, 10),\n",
    "          'Egg': (10, 10),\n",
    "          'Legume': (10, 10),\n",
    "          'Dairy': (10, 10),\n",
    "          'Fat': (10, 10),\n",
    "         }"
   ]
  },
  {
   "cell_type": "code",
   "execution_count": null,
   "id": "e655d2bb",
   "metadata": {},
   "outputs": [],
   "source": [
    "class dish:\n",
    "    def __init__(self, name):\n",
    "        self.name = name\n",
    "        self.cost = 0\n",
    "        self.nutrients = {nut:0 for nut in nutrient_limits.keys()}\n",
    "        self.category = {cat: 0 for cat in category_limits.keys()}"
   ]
  },
  {
   "cell_type": "code",
   "execution_count": null,
   "id": "c76ab7d9",
   "metadata": {},
   "outputs": [],
   "source": [
    "labels = list(df['Food'])\n",
    "costs = dict(zip(labels,df['Cost']))\n",
    "category = dict(zip(labels,df['Category']))"
   ]
  },
  {
   "cell_type": "code",
   "execution_count": null,
   "id": "1d46f4b5",
   "metadata": {},
   "outputs": [],
   "source": [
    "nutrients = {}\n",
    "for i in range(len(labels)):\n",
    "    nutrients[labels[i]] = {}\n",
    "    for nut in nutrient_limits.keys():\n",
    "        nutrients[labels[i]][nut] = df[nut][i]*10"
   ]
  },
  {
   "cell_type": "code",
   "execution_count": null,
   "id": "6fd3d1d6",
   "metadata": {},
   "outputs": [],
   "source": [
    "dish_labels = []\n",
    "dishes = []\n",
    "for i in range(len(dish_list)):\n",
    "    d = dish_list[i]\n",
    "    dishes.append(dish(d[0]))\n",
    "    dish_labels.append(d[0])\n",
    "    for j in range(1,len(d),2):\n",
    "        ingredient = d[j]\n",
    "        quantity = float(d[j+1])/1000\n",
    "        dishes[i].cost += costs[ingredient]*quantity\n",
    "        for nut in dishes[i].nutrients.keys():\n",
    "            dishes[i].nutrients[nut] += nutrients[ingredient][nut]*quantity\n",
    "        for cat in dishes[i].category.keys():\n",
    "            dishes[i].category[cat] += (category[ingredient]==cat)*quantity        "
   ]
  },
  {
   "cell_type": "code",
   "execution_count": null,
   "id": "4d8146ae",
   "metadata": {},
   "outputs": [],
   "source": [
    "foods_mon = pulp.LpVariable.dicts(\"Food_Mon\",dish_labels,0)\n",
    "#foods_tue = pulp.LpVariable.dicts(\"Food_Tue\",dish_labels,0)\n",
    "#foods_wed = pulp.LpVariable.dicts(\"Food_Wed\",dish_labels,0)\n",
    "#foods_thu = pulp.LpVariable.dicts(\"Food_Thu\",dish_labels,0)\n",
    "#foods_fri = pulp.LpVariable.dicts(\"Food_Fri\",dish_labels,0)\n",
    "#foods_sat = pulp.LpVariable.dicts(\"Food_Sat\",dish_labels,0)\n",
    "#foods_sun = pulp.LpVariable.dicts(\"Food_Sun\",dish_labels,0)\n",
    "#day_list = [foods_mon,foods_tue,foods_wed,foods_thu,foods_fri,foods_sat,foods_sun]\n",
    "day_list = [foods_mon]"
   ]
  },
  {
   "cell_type": "code",
   "execution_count": null,
   "id": "ed34dce8",
   "metadata": {},
   "outputs": [],
   "source": [
    "prob += pulp.lpSum([sum([dish.cost*day[dish.name] for day in day_list]) for dish in dishes])\n"
   ]
  },
  {
   "cell_type": "code",
   "execution_count": null,
   "id": "bf6963b8",
   "metadata": {},
   "outputs": [],
   "source": [
    "for nut in nutrient_limits.keys():\n",
    "    for day in day_list:\n",
    "        prob += pulp.lpSum([dish.nutrients[nut] * day[dish.name] for dish in dishes]) >= nutrient_limits[nut]*0.5\n",
    "        prob += pulp.lpSum([dish.nutrients[nut] * day[dish.name] for dish in dishes]) <= nutrient_limits[nut]*2"
   ]
  },
  {
   "cell_type": "code",
   "execution_count": null,
   "id": "546428d3",
   "metadata": {},
   "outputs": [],
   "source": [
    "#for cat in category_limits.keys():\n",
    "#    for day in day_list:\n",
    "#        prob += sum([day[dish.name]*dish.category[cat] for dish in dishes]) <= category_limits[cat][0]\n",
    "#    prob += sum([sum([day[dish.name]*dish.category[cat] for dish in dishes]) for day in day_list]) <= category_limits[cat][1]\n",
    "    "
   ]
  },
  {
   "cell_type": "code",
   "execution_count": null,
   "id": "6e0977dd",
   "metadata": {},
   "outputs": [],
   "source": [
    "new = branch_and_bound(prob)"
   ]
  },
  {
   "cell_type": "code",
   "execution_count": null,
   "id": "061c579a",
   "metadata": {},
   "outputs": [],
   "source": [
    "new.solve()"
   ]
  },
  {
   "cell_type": "code",
   "execution_count": null,
   "id": "a8a095b2",
   "metadata": {},
   "outputs": [],
   "source": [
    "print(pulp.LpStatus[new.status])"
   ]
  },
  {
   "cell_type": "code",
   "execution_count": null,
   "id": "61c262db",
   "metadata": {},
   "outputs": [],
   "source": [
    "print('Cost =', pulp.value(new.objective), '€')"
   ]
  },
  {
   "cell_type": "code",
   "execution_count": null,
   "id": "bbbe3c96",
   "metadata": {},
   "outputs": [],
   "source": [
    "for day in [\"_Mon_\",\"_Tue_\",\"_Wed_\",\"_Thu_\",\"_Fri_\",\"_Sat_\",\"_Sun_\"]:\n",
    "    print()\n",
    "    print(day[1:4].upper())\n",
    "    for v in new.variables():\n",
    "        if v.varValue and day in v.name:\n",
    "            print(v.name[9:], '=', '{0:.2f}'.format(v.varValue))\n"
   ]
  }
 ],
 "metadata": {
  "kernelspec": {
   "display_name": "Python 3",
   "language": "python",
   "name": "python3"
  },
  "language_info": {
   "codemirror_mode": {
    "name": "ipython",
    "version": 3
   },
   "file_extension": ".py",
   "mimetype": "text/x-python",
   "name": "python",
   "nbconvert_exporter": "python",
   "pygments_lexer": "ipython3",
   "version": "3.9.0"
  }
 },
 "nbformat": 4,
 "nbformat_minor": 5
}
