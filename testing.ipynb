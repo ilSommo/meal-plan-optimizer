{
 "cells": [
  {
   "cell_type": "code",
   "execution_count": null,
   "id": "074a65f0",
   "metadata": {},
   "outputs": [],
   "source": [
    "import pulp\n",
    "import pandas as pd"
   ]
  },
  {
   "cell_type": "code",
   "execution_count": null,
   "id": "aa8019f3",
   "metadata": {},
   "outputs": [],
   "source": [
    "prob = pulp.LpProblem(\"Test_plan\", pulp.LpMinimize)"
   ]
  },
  {
   "cell_type": "code",
   "execution_count": null,
   "id": "a69fdb08",
   "metadata": {},
   "outputs": [],
   "source": [
    "df = pd.read_csv(\"data.csv\")"
   ]
  },
  {
   "cell_type": "code",
   "execution_count": null,
   "id": "1cb1ab17",
   "metadata": {},
   "outputs": [],
   "source": [
    "labels = list(df['Food'])"
   ]
  },
  {
   "cell_type": "code",
   "execution_count": null,
   "id": "a622a467",
   "metadata": {},
   "outputs": [],
   "source": [
    "costs = dict(zip(labels,df['Cost']))"
   ]
  },
  {
   "cell_type": "code",
   "execution_count": null,
   "id": "b0644080",
   "metadata": {},
   "outputs": [],
   "source": [
    "daily = dict(zip(labels,df['Daily']/1000))"
   ]
  },
  {
   "cell_type": "code",
   "execution_count": null,
   "id": "dffc1262",
   "metadata": {},
   "outputs": [],
   "source": [
    "foods = pulp.LpVariable.dicts(\"Food\",labels,0)"
   ]
  },
  {
   "cell_type": "code",
   "execution_count": null,
   "id": "be4eaa25",
   "metadata": {},
   "outputs": [],
   "source": [
    "prob += pulp.lpSum([costs[food]*foods[food] for food in labels])"
   ]
  },
  {
   "cell_type": "code",
   "execution_count": null,
   "id": "43732fc6",
   "metadata": {},
   "outputs": [],
   "source": [
    "for food in labels:\n",
    "    prob += foods[food] <= daily[food]"
   ]
  },
  {
   "cell_type": "code",
   "execution_count": null,
   "id": "89995851",
   "metadata": {},
   "outputs": [],
   "source": [
    "energy = dict(zip(labels,df['Energy']*10))\n",
    "fat = dict(zip(labels,df['Fat']*10))\n",
    "saturates = dict(zip(labels,df['Saturates']*10))\n",
    "carbohydrates = dict(zip(labels,df['Carbohydrates']*10))\n",
    "sugars = dict(zip(labels,df['Sugars']*10))\n",
    "protein = dict(zip(labels,df['Protein']*10))"
   ]
  },
  {
   "cell_type": "code",
   "execution_count": null,
   "id": "8c2b0258",
   "metadata": {},
   "outputs": [],
   "source": [
    "prob += pulp.lpSum([energy[food] * foods[food] for food in labels]) >= 2000*0.9\n",
    "prob += pulp.lpSum([energy[food] * foods[food] for food in labels]) <= 2000*1.1\n",
    "prob += pulp.lpSum([fat[food] * foods[food] for food in labels]) >= 70*0.9\n",
    "prob += pulp.lpSum([fat[food] * foods[food] for food in labels]) <= 70*1.1\n",
    "prob += pulp.lpSum([saturates[food] * foods[food] for food in labels]) >= 20*0.9\n",
    "prob += pulp.lpSum([saturates[food] * foods[food] for food in labels]) <= 20*1.1\n",
    "prob += pulp.lpSum([carbohydrates[food] * foods[food] for food in labels]) >= 260*0.9\n",
    "prob += pulp.lpSum([carbohydrates[food] * foods[food] for food in labels]) <= 260*1.1\n",
    "prob += pulp.lpSum([sugars[food] * foods[food] for food in labels]) >= 90*0.9\n",
    "prob += pulp.lpSum([sugars[food] * foods[food] for food in labels]) <= 90*1.1\n",
    "prob += pulp.lpSum([protein[food] * foods[food] for food in labels]) >= 50*0.9\n",
    "prob += pulp.lpSum([protein[food] * foods[food] for food in labels]) <= 50*1.1"
   ]
  },
  {
   "cell_type": "code",
   "execution_count": null,
   "id": "b6e27b3a",
   "metadata": {},
   "outputs": [],
   "source": [
    "prob.solve();"
   ]
  },
  {
   "cell_type": "code",
   "execution_count": null,
   "id": "30893ad9",
   "metadata": {},
   "outputs": [],
   "source": [
    "print(pulp.LpStatus[prob.status])"
   ]
  },
  {
   "cell_type": "code",
   "execution_count": null,
   "id": "a3f08089",
   "metadata": {},
   "outputs": [],
   "source": [
    "print('Cost =', pulp.value(prob.objective), '€')"
   ]
  },
  {
   "cell_type": "code",
   "execution_count": null,
   "id": "37e2b399",
   "metadata": {},
   "outputs": [],
   "source": [
    "for v in prob.variables():\n",
    "    if v.varValue:\n",
    "        print(v.name, '=', '{0:.0f}'.format(v.varValue*1000), 'g')"
   ]
  }
 ],
 "metadata": {
  "kernelspec": {
   "display_name": "Python 3",
   "language": "python",
   "name": "python3"
  },
  "language_info": {
   "codemirror_mode": {
    "name": "ipython",
    "version": 3
   },
   "file_extension": ".py",
   "mimetype": "text/x-python",
   "name": "python",
   "nbconvert_exporter": "python",
   "pygments_lexer": "ipython3",
   "version": "3.9.0"
  }
 },
 "nbformat": 4,
 "nbformat_minor": 5
}
